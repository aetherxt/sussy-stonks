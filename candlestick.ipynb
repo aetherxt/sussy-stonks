{
 "cells": [
  {
   "cell_type": "code",
   "execution_count": 1,
   "metadata": {},
   "outputs": [],
   "source": [
    "import numpy as np\n",
    "import pandas as pd\n",
    "import matplotlib.pyplot as plt\n",
    "import yfinance as yf\n",
    "from datetime import datetime\n",
    "import json \n",
    "import talib as ta\n",
    "import math\n",
    "from itertools import compress"
   ]
  },
  {
   "cell_type": "code",
   "execution_count": 13,
   "metadata": {},
   "outputs": [
    {
     "name": "stdout",
     "output_type": "stream",
     "text": [
      "[*********************100%***********************]  1 of 1 completed\n"
     ]
    },
    {
     "data": {
      "image/png": "[encoded data removed]",
      "text/plain": [
       "<Figure size 432x288 with 2 Axes>"
      ]
     },
     "metadata": {
      "needs_background": "light"
     },
     "output_type": "display_data"
    },
    {
     "data": {
      "text/plain": [
       "<Figure size 720x720 with 0 Axes>"
      ]
     },
     "metadata": {},
     "output_type": "display_data"
    }
   ],
   "source": [
    "ticker = yf.download(\"MSFT\", period = \"1mo\")\n",
    "\n",
    "candle_names = ta.get_function_groups()['Pattern Recognition']\n",
    "\n",
    "ticker = ticker.rename(columns={\n",
    "        \"Date\": \"date\",\n",
    "        \"Open\": \"open\",\n",
    "        \"High\": \"high\",\n",
    "        \"Low\": \"low\",\n",
    "        \"Close\": \"close\",\n",
    "        \"Adj Close\": \"adj_close\",\n",
    "        \"Volume\": \"volume\"\n",
    "    }\n",
    ")\n",
    "\n",
    "op = ticker['open']\n",
    "hi = ticker['high']\n",
    "lo = ticker['low']\n",
    "cl = ticker['close']\n",
    "\n",
    "for candle in candle_names:\n",
    "    ticker[candle] = getattr(ta, candle)(op, hi, lo, cl)\n",
    "\n",
    "ticker['candlepattern'] = np.nan\n",
    "ticker['candlematchcount'] = np.nan\n",
    "\n",
    "for index, row in ticker.iterrows():\n",
    "    if len(row[candle_names]) - sum(row[candle_names] == 0) == 0:\n",
    "        ticker.loc[index, 'candlepattern'] = 'none'\n",
    "        ticker.loc[index, 'candlematchcount'] = 0\n",
    "    elif len(row[candle_names]) - sum(row[candle_names] == 0) == 1:\n",
    "        if any(row[candle_names].values > 0):\n",
    "            pattern = list(compress(\n",
    "                row[candle_names].keys(),\n",
    "                row[candle_names].values != 0\n",
    "            ))[0] + '_Bull'\n",
    "        else:\n",
    "            pattern = list(compress(\n",
    "                row[candle_names].keys(),\n",
    "                row[candle_names].values != 0\n",
    "            ))[0] + '_Bear'\n",
    "        ticker.loc[index, 'candlepattern'] = pattern\n",
    "        ticker.loc[index, 'candlematchcount'] = 1\n",
    "    else:\n",
    "        patterns = list(compress(\n",
    "            row[candle_names].keys(),\n",
    "            row[candle_names].values != 0\n",
    "        ))\n",
    "        container = []\n",
    "        for pattern in patterns:\n",
    "            if row[pattern] > 0:\n",
    "                container.append(pattern + '_Bull')\n",
    "            else:\n",
    "                container.append(pattern + '_Bear')\n",
    "\n",
    "ticker.drop(candle_names, axis = 1, inplace = True)\n",
    "\n",
    "bar_width = 0.12\n",
    "width, width2 = 8*bar_width, bar_width\n",
    "up_color, dn_color = 'green', 'red'\n",
    "\n",
    "up = ticker[ticker.close >= ticker.open]\n",
    "dn = ticker[ticker.close < ticker.open]\n",
    "\n",
    "fig, ax1 = plt.subplots()\n",
    "\n",
    "ax1.bar(up.index, up.close-up.open, width, bottom=up.open, color=up_color)\n",
    "ax1.bar(up.index, up.high-up.close, width2, bottom=up.close, color=up_color)\n",
    "ax1.bar(up.index, up.low-up.open, width2, bottom=up.open, color=up_color)\n",
    "\n",
    "ax1.bar(dn.index, dn.close-dn.open, width, bottom=dn.open, color=dn_color)\n",
    "ax1.bar(dn.index, dn.high-dn.open, width2, bottom=dn.open, color=dn_color)\n",
    "ax1.bar(dn.index, dn.low-dn.close, width2, bottom=dn.close, color=dn_color)\n",
    "\n",
    "ax1.set_xlabel('Days')\n",
    "ax1.set_ylabel('USD ($)')\n",
    "\n",
    "ax2 = ax1.twinx()\n",
    "ax2.bar(up.index, up.volume, bar_width*5, color=up_color)\n",
    "ax2.bar(dn.index, dn.volume, bar_width*5, color=dn_color)\n",
    "\n",
    "ymin, ymax = ax2.get_ylim()\n",
    "ax2.set_ylim(0, ymax*5)\n",
    "ax2.set_ylabel('Volume ($)')\n",
    "\n",
    "for index, row in ticker.iterrows():\n",
    "    ax1.annotate(row['candlepattern'], (index, row['high']+0.2), rotation=90, fontsize=4)\n",
    "plt.figure(figsize=(10, 10))\n",
    "\n",
    "plt.show()\n"
   ]
  },
  {
   "cell_type": "code",
   "execution_count": null,
   "metadata": {},
   "outputs": [],
   "source": [
    "\n"
   ]
  }
 ],
 "metadata": {
  "interpreter": {
   "hash": "7e06c4bb6c3bdbde3f75aa3661d7cfc7b2f1743888aefc243b9ad2d8c26989d8"
  },
  "kernelspec": {
   "display_name": "Python 3.10.2 64-bit",
   "language": "python",
   "name": "python3"
  },
  "language_info": {
   "codemirror_mode": {
    "name": "ipython",
    "version": 3
   },
   "file_extension": ".py",
   "mimetype": "text/x-python",
   "name": "python",
   "nbconvert_exporter": "python",
   "pygments_lexer": "ipython3",
   "version": "3.10.2"
  },
  "orig_nbformat": 4
 },
 "nbformat": 4,
 "nbformat_minor": 2
}
