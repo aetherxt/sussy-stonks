{
 "cells": [
  {
   "cell_type": "code",
   "execution_count": 74,
   "metadata": {},
   "outputs": [
    {
     "name": "stdout",
     "output_type": "stream",
     "text": [
      "ok\n"
     ]
    }
   ],
   "source": [
    "import numpy as np\n",
    "import pandas as pd\n",
    "import matplotlib.pyplot as plt\n",
    "import yfinance as yf\n",
    "import pymongo\n",
    "from datetime import datetime\n",
    "import json \n",
    "import talib as ta\n",
    "\n",
    "myclient = pymongo.MongoClient(\"mongodb://localhost:27017/\")\n",
    "mydb = myclient[\"stoccs\"]\n",
    "print(\"ok\")"
   ]
  },
  {
   "cell_type": "code",
   "execution_count": 79,
   "metadata": {},
   "outputs": [
    {
     "name": "stdout",
     "output_type": "stream",
     "text": [
      "[*********************100%***********************]  1 of 1 completed\n",
      "[*********************100%***********************]  1 of 1 completed\n",
      "[*********************100%***********************]  1 of 1 completed\n",
      "[*********************100%***********************]  1 of 1 completed\n"
     ]
    }
   ],
   "source": [
    "mycol = mydb[\"data\"]\n",
    "now = datetime.now()\n",
    "tickerlist = [\"AAPL\", \"MSFT\", \"FB\", \"0700.hk\"]\n",
    "\n",
    "def newdata():\n",
    "    mycol.drop({})\n",
    "    for tickername in tickerlist:\n",
    "        ticker = yf.download(tickername, period = \"1y\")\n",
    "        ticker['SMA10'] = ta.SMA(ticker['Close'], timeperiod=10)\n",
    "        ticker['SMA20'] = ta.SMA(ticker['Close'], timeperiod=20)\n",
    "        ticker['SMA50'] = ta.SMA(ticker['Close'], timeperiod=50)\n",
    "        if not ticker.empty:\n",
    "            df = pd.DataFrame(ticker)\n",
    "            data = df.reset_index()\n",
    "            json_data = json.loads(data.to_json(date_format=\"iso\"))\n",
    "            data_list = []\n",
    "            for j in range(len((json_data[\"Date\"]))):\n",
    "                row = {}\n",
    "                for col in data.columns:\n",
    "                    row[col] = json_data[col][str(j)]\n",
    "                    if col == \"Date\":\n",
    "                        row[col] = datetime.strptime(json_data[col][str(j)], '%Y-%m-%dT%H:%M:%S.%fZ')\n",
    "                data_list.append(row)\n",
    "            \n",
    "            ticker_data = []\n",
    "            for row in data_list:\n",
    "                ticker_data.append(row)\n",
    "                \n",
    "            mycol.insert_one({tickername: ticker_data})\n",
    "\n",
    "# def update():\n",
    "#     for ticker in tickerlist:\n",
    "#         result = mycol.find({}, {\"ticker.Date\": 1})\n",
    "#         print(result)\n",
    "\n",
    "newdata()"
   ]
  },
  {
   "cell_type": "code",
   "execution_count": 67,
   "metadata": {},
   "outputs": [
    {
     "name": "stdout",
     "output_type": "stream",
     "text": [
      "[{'_id': ObjectId('61fe20befc5c7b5f3638e6ec'), 'MSFT': [{'Date': datetime.datetime(2022, 1, 28, 0, 0), 'Open': 300.2300109863, 'High': 308.4800109863, 'Low': 294.450012207, 'Close': 308.2600097656, 'Adj Close': 308.2600097656, 'Volume': 49743700}, {'Date': datetime.datetime(2022, 1, 31, 0, 0), 'Open': 308.950012207, 'High': 312.3800048828, 'Low': 306.3699951172, 'Close': 310.9800109863, 'Adj Close': 310.9800109863, 'Volume': 46444500}, {'Date': datetime.datetime(2022, 2, 1, 0, 0), 'Open': 310.4100036621, 'High': 310.6300048828, 'Low': 305.1300048828, 'Close': 308.7600097656, 'Adj Close': 308.7600097656, 'Volume': 40894300}, {'Date': datetime.datetime(2022, 2, 2, 0, 0), 'Open': 309.6300048828, 'High': 315.1199951172, 'Low': 308.8800048828, 'Close': 313.4599914551, 'Adj Close': 313.4599914551, 'Volume': 36636000}, {'Date': datetime.datetime(2022, 2, 3, 0, 0), 'Open': 309.4899902344, 'High': 311.2300109863, 'Low': 299.9599914551, 'Close': 301.25, 'Adj Close': 301.25, 'Volume': 43730000}, {'Date': datetime.datetime(2022, 2, 4, 0, 0), 'Open': 300.2099914551, 'High': 308.799987793, 'Low': 299.9700012207, 'Close': 305.9400024414, 'Adj Close': 305.9400024414, 'Volume': 35070300}]}]\n"
     ]
    }
   ],
   "source": [
    "mycol = mydb[\"data\"]\n",
    "\n",
    "findstuff = mycol.aggregate([\n",
    "    { \"$project\": {\n",
    "        \"MSFT\": {\n",
    "            \"$filter\": {\n",
    "                \"input\": \"$MSFT\",\n",
    "                \"as\": \"item\",\n",
    "                \"cond\": \n",
    "                    {\"$and\": [{ \"$gt\": [\"$$item.Date\", datetime(2022, 1, 27, 0, 0)]}]}\n",
    "                }\n",
    "            }\n",
    "        }\n",
    "    }\n",
    "])\n",
    "\n",
    "result = [x for x in findstuff if x[\"MSFT\"] is not None]\n",
    "\n",
    "print(result)"
   ]
  },
  {
   "cell_type": "code",
   "execution_count": null,
   "metadata": {},
   "outputs": [],
   "source": []
  }
 ],
 "metadata": {
  "interpreter": {
   "hash": "cf2f30ab6b108352c5c43afe635e07a7f550d4b037cfe321627bf1153c545489"
  },
  "kernelspec": {
   "display_name": "Python 3.10.0 64-bit",
   "language": "python",
   "name": "python3"
  },
  "language_info": {
   "codemirror_mode": {
    "name": "ipython",
    "version": 3
   },
   "file_extension": ".py",
   "mimetype": "text/x-python",
   "name": "python",
   "nbconvert_exporter": "python",
   "pygments_lexer": "ipython3",
   "version": "3.10.0"
  },
  "orig_nbformat": 4
 },
 "nbformat": 4,
 "nbformat_minor": 2
}
