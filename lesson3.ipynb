{
 "cells": [
  {
   "cell_type": "code",
   "execution_count": null,
   "metadata": {},
   "outputs": [],
   "source": [
    "import numpy as np\n",
    "import pandas as pd\n",
    "import matplotlib.pyplot as plt\n",
    "import yfinance as yf\n",
    "import pymongo\n",
    "from datetime import datetime\n",
    "import json \n",
    "\n",
    "myclient = pymongo.MongoClient(\"mongodb://localhost:27017/\")\n",
    "mydb = myclient[\"stoccs\"]\n",
    "print(\"ok\")"
   ]
  },
  {
   "cell_type": "code",
   "execution_count": 37,
   "metadata": {},
   "outputs": [
    {
     "name": "stdout",
     "output_type": "stream",
     "text": [
      "[*********************100%***********************]  1 of 1 completed\n",
      "[*********************100%***********************]  1 of 1 completed\n",
      "[*********************100%***********************]  1 of 1 completed\n",
      "[*********************100%***********************]  1 of 1 completed\n",
      "[*********************100%***********************]  1 of 1 completed\n",
      "[*********************100%***********************]  1 of 1 completed\n",
      "[*********************100%***********************]  1 of 1 completed\n",
      "[*********************100%***********************]  1 of 1 completed\n",
      "[*********************100%***********************]  1 of 1 completed\n"
     ]
    }
   ],
   "source": [
    "mycol = mydb[\"data\"]\n",
    "now = datetime.now()\n",
    "\n",
    "hsbc = yf.Ticker(\"0005.hk\")\n",
    "\n",
    "data = hsbc.history(start=\"2022-01-01\")\n",
    "\n",
    "dict = {\n",
    "    \"0001.hk\": [\n",
    "        {\"date\": \"2022-01-01\", \"close\": \"101\"},\n",
    "        {\"date\": \"2022-01-02\", \"close\": \"102\"}\n",
    "    ]\n",
    "}\n",
    "\n",
    "mycol = mydb[\"data\"]\n",
    "mycol.drop({})\n",
    "\n",
    "for a in range(1, 10):\n",
    "    ticker = yf.download(\"%04d.hk\" % a, start=\"2022-01-01\", end=now.strftime(\"%Y-%m-%d\"))\n",
    "    if not ticker.empty:\n",
    "        df = pd.DataFrame(ticker)\n",
    "        data = df.reset_index()\n",
    "        json_data = json.loads(data.to_json(date_format=\"iso\"))\n",
    "        data_list = []\n",
    "        for j in range(len((json_data[\"Date\"]))):\n",
    "            row = {}\n",
    "            for col in data.columns:\n",
    "                row[col] = json_data[col][str(j)]\n",
    "                if col == \"Date\":\n",
    "                    row[col] = datetime.strptime(json_data[col][str(j)], '%Y-%m-%dT%H:%M:%S.%fZ')\n",
    "            data_list.append(row)\n",
    "        \n",
    "        ticker_data = []\n",
    "        for row in data_list:\n",
    "            ticker_data.append(row)\n",
    "\n",
    "    mycol.insert_one({\"%04d-hk\" % a: ticker_data})\n",
    "\n"
   ]
  },
  {
   "cell_type": "code",
   "execution_count": 47,
   "metadata": {},
   "outputs": [
    {
     "name": "stdout",
     "output_type": "stream",
     "text": [
      "[{'_id': ObjectId('61f63df046657c50925d7576'), '0001-hk': [{'Date': datetime.datetime(2022, 1, 28, 0, 0), 'Open': 55.5999984741, 'High': 56.0999984741, 'Low': 54.7999992371, 'Close': 55.0499992371, 'Adj Close': 55.0499992371, 'Volume': 5424050}]}]\n"
     ]
    }
   ],
   "source": [
    "mycol = mydb[\"data\"]\n",
    "\n",
    "findstuff = mycol.aggregate([\n",
    "    { \"$project\": {\n",
    "        \"0001-hk\": {\n",
    "            \"$filter\": {\n",
    "                \"input\": \"$0001-hk\",\n",
    "                \"as\": \"item\",\n",
    "                \"cond\": \n",
    "                    {\"$and\": [{ \"$gt\": [\"$$item.Date\", datetime(2022, 1, 27, 0, 0)]}]}\n",
    "                }\n",
    "            }\n",
    "        }\n",
    "    }\n",
    "])\n",
    "\n",
    "result = [x for x in findstuff if x[\"0001-hk\"] is not None]\n",
    "\n",
    "print(result)"
   ]
  },
  {
   "cell_type": "code",
   "execution_count": null,
   "metadata": {},
   "outputs": [],
   "source": []
  }
 ],
 "metadata": {
  "interpreter": {
   "hash": "cf2f30ab6b108352c5c43afe635e07a7f550d4b037cfe321627bf1153c545489"
  },
  "kernelspec": {
   "display_name": "Python 3.10.0 64-bit",
   "language": "python",
   "name": "python3"
  },
  "language_info": {
   "codemirror_mode": {
    "name": "ipython",
    "version": 3
   },
   "file_extension": ".py",
   "mimetype": "text/x-python",
   "name": "python",
   "nbconvert_exporter": "python",
   "pygments_lexer": "ipython3",
   "version": "3.10.0"
  },
  "orig_nbformat": 4
 },
 "nbformat": 4,
 "nbformat_minor": 2
}
